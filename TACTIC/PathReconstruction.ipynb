{
 "cells": [
  {
   "cell_type": "code",
   "execution_count": 2,
   "id": "5dd3ca85-ee93-4522-83c0-f4d384d3cadd",
   "metadata": {},
   "outputs": [],
   "source": [
    "from dataclasses import dataclass\n",
    "from typing import List\n",
    "import numpy as np\n",
    "import matplotlib.pyplot as plt\n",
    "\n",
    "import read_processed_data as rpd"
   ]
  },
  {
   "cell_type": "code",
   "execution_count": 4,
   "id": "fdc7c3fb-ac54-4bd8-9635-f62dc37d5382",
   "metadata": {},
   "outputs": [],
   "source": [
    "events_1500 = rpd.read(\"analysis/output_1500.txt\")"
   ]
  },
  {
   "cell_type": "code",
   "execution_count": 117,
   "id": "29bd85d9-6245-4b18-8453-f08dc83483db",
   "metadata": {},
   "outputs": [
    {
     "data": {
      "image/png": "[encoded data removed]",
      "text/plain": [
       "<Figure size 432x288 with 2 Axes>"
      ]
     },
     "metadata": {
      "needs_background": "light"
     },
     "output_type": "display_data"
    }
   ],
   "source": [
    "event1 = events_1500[1890]\n",
    "\n",
    "# sc = plt.scatter(event1.channels, event1.amps, c=event1.times, cmap=plt.get_cmap('viridis'))\n",
    "# plt.colorbar(sc, label=\"Time [s]\")\n",
    "# plt.ylabel(\"amplitude [V]\")\n",
    "\n",
    "sc = plt.scatter(event1.channels, event1.times, c=event1.amps, cmap=plt.get_cmap('viridis'))\n",
    "plt.colorbar(sc, label=\"amplitude [V]\")\n",
    "plt.ylabel(\"Time [not s I think?]\")\n",
    "#all the tracks seem to get the min hit time at ~1000\n",
    "\n",
    "plt.xlabel(\"channel #\")\n",
    "plt.show()"
   ]
  },
  {
   "cell_type": "code",
   "execution_count": 68,
   "id": "5e1f111a-f7d4-44a8-8369-92e455211726",
   "metadata": {},
   "outputs": [
    {
     "name": "stdout",
     "output_type": "stream",
     "text": [
      "825 4\n",
      "894 4\n",
      "2680 5\n",
      "5752 5\n"
     ]
    }
   ],
   "source": [
    "#find horizontal track maybe?\n",
    "\n",
    "dt = 100\n",
    "\n",
    "for i, event in enumerate(events_1500):\n",
    "    removeZerosTimes = [x for x in event.times if x != 0]\n",
    "    variance = np.var(removeZeros)\n",
    "#     print(variance)\n",
    "    #horizontal tracks should have basically no variance in the timing of hits\n",
    "    if variance < dt & len(removeZeros) > 2: #not right\n",
    "        print(i, len(removeZeros))"
   ]
  },
  {
   "cell_type": "code",
   "execution_count": 122,
   "id": "d2bf91e2-6f5c-4369-ae4f-76071ae714c5",
   "metadata": {},
   "outputs": [
    {
     "name": "stdout",
     "output_type": "stream",
     "text": [
      "16789.778785330138 11972.359988232321\n"
     ]
    }
   ],
   "source": [
    "#get drift times\n",
    "'''\n",
    "The source is mounted on a movable arm, 58.5mm from the GEM and 53mm to the cathode plane,\n",
    "set to one side 59mm to the closest wall (to the right facing downstream with the alpha particle\n",
    "beam)\n",
    "'''\n",
    "dist_to_GEM = 58.8 #mm\n",
    "dist_to_cathode = 53 #mm\n",
    "\n",
    "#62.5 MHz for data taking freq. -> so our times need to be corrected with this to get to s units\n",
    "\n",
    "dt_data = 1/(62.5e6) #s\n",
    "# print(dt_data*1000)\n",
    "\n",
    "timingArr = []\n",
    "\n",
    "for i, event in enumerate(events_1500):\n",
    "    removeZerosTimes = [x for x in event.times if x != 0]\n",
    "    #should also only look at tracks that are heading up and we think\n",
    "    #hit a GEM, didn't just petter out\n",
    "    variance = np.var(removeZerosTimes)\n",
    "    \n",
    "    if (8 > len(removeZerosTimes) > 4) & (variance > 800):\n",
    "        dt  = (np.max(removeZerosTimes) - np.min(removeZerosTimes)) * dt_data\n",
    "        #     len(event_removeZeros)\n",
    "        dy = dist_to_GEM/1e3 #m\n",
    "    #     print(dt, dy)\n",
    "\n",
    "        if dy/dt != np.inf:\n",
    "            timingArr.append(dy/dt)\n",
    "    \n",
    "aveDriftTime = np.average(timingArr) #m/s\n",
    "errorDriftTime = np.std(timingArr) #m/s\n",
    "\n",
    "print(aveDriftTime, errorDriftTime)"
   ]
  },
  {
   "cell_type": "code",
   "execution_count": null,
   "id": "d6441c57-67d4-4b1e-b0bf-0cd2db7329d5",
   "metadata": {},
   "outputs": [],
   "source": [
    "# aveDriftTime - \n",
    "\n",
    "#distance = aveDriftTime*"
   ]
  }
 ],
 "metadata": {
  "kernelspec": {
   "display_name": "Python 3",
   "language": "python",
   "name": "python3"
  },
  "language_info": {
   "codemirror_mode": {
    "name": "ipython",
    "version": 3
   },
   "file_extension": ".py",
   "mimetype": "text/x-python",
   "name": "python",
   "nbconvert_exporter": "python",
   "pygments_lexer": "ipython3",
   "version": "3.8.8"
  }
 },
 "nbformat": 4,
 "nbformat_minor": 5
}
