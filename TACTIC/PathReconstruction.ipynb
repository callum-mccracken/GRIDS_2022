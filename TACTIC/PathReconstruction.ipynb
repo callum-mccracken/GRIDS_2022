{
 "cells": [
  {
   "cell_type": "code",
   "execution_count": 444,
   "id": "5dd3ca85-ee93-4522-83c0-f4d384d3cadd",
   "metadata": {},
   "outputs": [],
   "source": [
    "from dataclasses import dataclass\n",
    "from typing import List\n",
    "import numpy as np\n",
    "import matplotlib.pyplot as plt\n",
    "\n",
    "import read_processed_data as rpd"
   ]
  },
  {
   "cell_type": "code",
   "execution_count": 445,
   "id": "e4411d29-82c1-4071-9b3d-5c1955a7da63",
   "metadata": {},
   "outputs": [],
   "source": [
    "'''\n",
    "The source is mounted on a movable arm, 58.5mm from the GEM and 53mm to the cathode plane,\n",
    "set to one side 59mm to the closest wall (to the right facing downstream with the alpha particle\n",
    "beam)\n",
    "\n",
    "The anode strips are 3mm wide and oriented transverse to the nominal α particle beam direction. \n",
    "The distance between the center of adjacent strips is 3.125mm\n",
    "'''\n",
    "dist_to_GEM = 58.8/1e3 #m\n",
    "dist_to_cathode = 53/1e3 #m\n",
    "dist_between_anodes = (3.125+3)/1e3 #m\n",
    "\n",
    "#62.5 MHz for data taking freq. -> so our times need to be corrected with this to get to s units\n",
    "\n",
    "dt_data = 1/(62.5e6) #s = 1/Hz\n",
    "\n",
    "# print(dt_data*1000)"
   ]
  },
  {
   "cell_type": "code",
   "execution_count": 467,
   "id": "fdc7c3fb-ac54-4bd8-9635-f62dc37d5382",
   "metadata": {},
   "outputs": [],
   "source": [
    "events_1500 = rpd.read(\"analysis/output_1300.txt\")"
   ]
  },
  {
   "cell_type": "code",
   "execution_count": 515,
   "id": "c5f6a29b-a2a2-4303-9a8d-038c3e97a13a",
   "metadata": {},
   "outputs": [
    {
     "name": "stdout",
     "output_type": "stream",
     "text": [
      "9272.142857142717\n"
     ]
    },
    {
     "data": {
      "image/png": "[encoded data removed]",
      "text/plain": [
       "<Figure size 432x288 with 2 Axes>"
      ]
     },
     "metadata": {
      "needs_background": "light"
     },
     "output_type": "display_data"
    },
    {
     "name": "stdout",
     "output_type": "stream",
     "text": [
      "1683.0 934.0\n",
      "drift time?  4906.542056074766\n"
     ]
    }
   ],
   "source": [
    "event1 = events_1500[0]\n",
    "\n",
    "# sc = plt.scatter(event1.channels, event1.amps, c=event1.times, cmap=plt.get_cmap('viridis'))\n",
    "# plt.colorbar(sc, label=\"Time [s]\")\n",
    "# plt.ylabel(\"amplitude [V]\")\n",
    "\n",
    "AmpVar = np.var(event1.amps)\n",
    "removeZerosTimes = [x for x in event1.times if x != 0]\n",
    "AnodeDist = dist_between_anodes*len(removeZerosTimes)\n",
    "\n",
    "removeZerosTimes_index = [event1.times != 0]\n",
    "removeZeroChan = event1.channels[tuple(removeZerosTimes_index)]\n",
    "\n",
    "# coeff, cov = np.polyfit(removeZeroChan, removeZerosTimes, 1, cov=True)\n",
    "coeff, res, _, _, _ = np.polyfit(removeZeroChan, removeZerosTimes, 1, full= True)\n",
    "\n",
    "sc = plt.scatter(event1.channels, event1.times, c=event1.amps, \n",
    "                 cmap=plt.get_cmap('viridis'), \n",
    "                 label=\"$\\sigma_A^2$ = {:.2e} A\\n Anode dist = {:.4} m\".format(AmpVar, AnodeDist))\n",
    "\n",
    "x = np.linspace(4, 18)\n",
    "\n",
    "# print(np.sqrt(np.diag(cov)))\n",
    "print(np.mean(res))\n",
    "\n",
    "plt.plot(x, np.polyval(coeff, x))\n",
    "\n",
    "plt.colorbar(sc, label=\"amplitude [V]\")\n",
    "\n",
    "plt.ylabel(\"Time [not s I think?]\")\n",
    "#all the tracks seem to get the min hit time at ~1000\n",
    "plt.xlabel(\"channel #\")\n",
    "plt.legend()\n",
    "# plt.legend(fontsize=30)\n",
    "# plt.ylim(800, 2000)\n",
    "# plt.xlim(4, 15)\n",
    "\n",
    "plt.show()\n",
    "\n",
    "# drifttime sketch\n",
    "print(np.max(removeZerosTimes), np.min(removeZerosTimes))\n",
    "dt  = (np.max(removeZerosTimes) - np.min(removeZerosTimes)) * dt_data\n",
    "dy = dist_to_GEM #m\n",
    "\n",
    "print(\"drift time? \", dy/dt)"
   ]
  },
  {
   "cell_type": "code",
   "execution_count": null,
   "id": "2c90bede-b14e-4ce1-8f8b-d48bd96dc0c9",
   "metadata": {},
   "outputs": [],
   "source": []
  },
  {
   "cell_type": "code",
   "execution_count": null,
   "id": "2e837fe5-8060-4fb4-b4d4-999c86ebd329",
   "metadata": {},
   "outputs": [],
   "source": [
    "#looking at the variance of the amplitude of the peak\n",
    "#as tracks that hit a GEM should have a smaller variance -> less time\n",
    "# to peter out - actually that doens't seem to help much\n",
    "\n",
    "# AmpVar = []\n",
    "# for i, event in enumerate(events_1500):\n",
    "#     AmpVar.append(np.max(event.amps))\n",
    "#     if np.max(event.amps) > 16e4:\n",
    "#         print(i)\n",
    "\n",
    "# plt.hist(AmpVar, bins=10)\n",
    "# plt.show()\n",
    "\n",
    "#what about just choose a channel to be our cut off?\n",
    "\n",
    "def lastDistance(input_Arr):\n",
    "#     print(input_Arr)\n",
    "    \n",
    "    nonZero_index = np.where(input_Arr > 0)[0]\n",
    "#     print(nonZero_index))\n",
    "    if len(nonZero_index) > 2:\n",
    "    \n",
    "        lastDist = nonZero_index[-1] - nonZero_index[-2]\n",
    "    else:\n",
    "        lastDist = 100\n",
    "    return lastDist\n",
    "\n",
    "LastChannel = []\n",
    "for i, event in enumerate(events_1500):\n",
    "#     removeZerosTimes_index = [i for i, x in enumerate(event.times) if x != 0]\n",
    "    removeZerosTimes_index = [event.times != 0]\n",
    "    varianceT = np.var(event.times[tuple(removeZerosTimes_index)])\n",
    "#     print(varianceT)\n",
    "    \n",
    "    lastDist = lastDistance(event.times)\n",
    "    upPaths_cut = event.times[tuple(removeZerosTimes_index)][-1] < event.times[tuple(removeZerosTimes_index)][0]\n",
    "    \n",
    "    if (lastDist < 2) & (np.mean(event.amps) > 0) & (varianceT > 400) & upPaths_cut: #remove signals with strange bumps in them\n",
    "        noneZeroChannels = event.channels[tuple(removeZerosTimes_index)]\n",
    "        LastChannel.append(noneZeroChannels[-1])\n",
    "        if noneZeroChannels[-1] < 15:\n",
    "            print(i)\n",
    "\n",
    "y, x, _ = plt.hist(LastChannel, bins=16)\n",
    "print(x[np.where(y == y.max())])\n",
    "plt.show()"
   ]
  },
  {
   "cell_type": "code",
   "execution_count": 68,
   "id": "5e1f111a-f7d4-44a8-8369-92e455211726",
   "metadata": {},
   "outputs": [
    {
     "name": "stdout",
     "output_type": "stream",
     "text": [
      "825 4\n",
      "894 4\n",
      "2680 5\n",
      "5752 5\n"
     ]
    }
   ],
   "source": [
    "#find horizontal track maybe?\n",
    "\n",
    "dt = 100\n",
    "\n",
    "for i, event in enumerate(events_1500):\n",
    "    removeZerosTimes = [x for x in event.times if x != 0]\n",
    "    variance = np.var(removeZeros)\n",
    "#     print(variance)\n",
    "    #horizontal tracks should have basically no variance in the timing of hits\n",
    "    if variance < dt & len(removeZeros) > 2: #not right\n",
    "        print(i, len(removeZeros))"
   ]
  },
  {
   "cell_type": "code",
   "execution_count": 342,
   "id": "d2bf91e2-6f5c-4369-ae4f-76071ae714c5",
   "metadata": {},
   "outputs": [
    {
     "name": "stdout",
     "output_type": "stream",
     "text": [
      "19900.270755828784 20950.822163878587\n"
     ]
    }
   ],
   "source": [
    "#get drift times\n",
    "timingArr = []\n",
    "\n",
    "for i, event in enumerate(events_1500):\n",
    "    \n",
    "    removeZerosTimes_index = [event.times != 0]\n",
    "    \n",
    "    lastDist = lastDistance(event.times)\n",
    "    if lastDist < 2: #remove signals with strange bumps in them\n",
    "        removeZerosTimes = [x for x in event.times if x != 0]\n",
    "        #should also only look at tracks that are heading up and we think\n",
    "        #hit a GEM, didn't just petter out\n",
    "        varianceT = np.var(removeZerosTimes)\n",
    "        varianceA = np.var(event.amps)\n",
    "\n",
    "        noneZeroChannels = event.channels[tuple(removeZerosTimes_index)]\n",
    "        LastChannel = noneZeroChannels[-1]\n",
    "        meanChannel = np.round(np.mean(LastChannel))\n",
    "\n",
    "    #     if (8 > len(removeZerosTimes) > 4) & (varianceT > 800):\n",
    "        if (lastDist < meanChannel) & (np.mean(event.amps) > 0) & (varianceT > 100):\n",
    "\n",
    "            dt  = (np.max(removeZerosTimes) - np.min(removeZerosTimes)) * dt_data\n",
    "            dy = dist_to_GEM #m\n",
    "        #     print(dt, dy)\n",
    "\n",
    "            if dy/dt != np.inf:\n",
    "                timingArr.append(dy/dt)\n",
    "    \n",
    "aveDriftTime = np.average(timingArr) #m/s\n",
    "errorDriftTime = np.std(timingArr) #m/s\n",
    "\n",
    "print(aveDriftTime, errorDriftTime)"
   ]
  },
  {
   "cell_type": "code",
   "execution_count": 506,
   "id": "d6441c57-67d4-4b1e-b0bf-0cd2db7329d5",
   "metadata": {},
   "outputs": [],
   "source": [
    "def GetMeanLastChannel(dataSet):\n",
    "    #get the distribution of last channels\n",
    "    LastChannel = []\n",
    "    for i, event in enumerate(dataSet):\n",
    "    #     removeZerosTimes_index = [i for i, x in enumerate(event.times) if x != 0]\n",
    "        removeZerosTimes_index = [event.times != 0]\n",
    "        varianceT = np.var(event.times[tuple(removeZerosTimes_index)])\n",
    "\n",
    "        lastDist = lastDistance(event.times)\n",
    "        if (lastDist < 2) & (np.mean(event.amps) > 0) & (varianceT > 100): #remove signals with strange bumps in them\n",
    "            noneZeroChannels = event.channels[tuple(removeZerosTimes_index)]\n",
    "            LastChannel.append(noneZeroChannels[-1])\n",
    "\n",
    "    meanChannel = np.round(np.mean(LastChannel))\n",
    "    return meanChannel\n",
    "\n",
    "\n",
    "def GetDriftTime(dataSet):\n",
    "    \n",
    "    meanChannel = GetMeanLastChannel(dataSet)\n",
    "    \n",
    "    timingArr = []\n",
    "\n",
    "    for i, event in enumerate(dataSet):\n",
    "\n",
    "        removeZerosTimes_index = [event.times != 0]\n",
    "\n",
    "        lastDist = lastDistance(event.times)\n",
    "        if lastDist < 2: #remove signals with strange bumps in them\n",
    "            removeZerosTimes = [x for x in event.times if x != 0]\n",
    "            \n",
    "            #should also only look at tracks that are heading up and we think\n",
    "            #hit a GEM, didn't just petter out\n",
    "            varianceT = np.var(removeZerosTimes)\n",
    "            varianceT_Cut = varianceT > 500\n",
    "            negativeAmp_cut = np.mean(event.amps) > 0\n",
    "            varianceA = np.var(event.amps)\n",
    "            \n",
    "            upPaths_cut = removeZerosTimes[-1] < removeZerosTimes[0]\n",
    "\n",
    "            noneZeroChannels = event.channels[tuple(removeZerosTimes_index)]\n",
    "            LastChannel = noneZeroChannels[-1]\n",
    "            \n",
    "            #trying to only get fairly linear paths - not currently using this\n",
    "            coeff, res, _, _, _ = np.polyfit(noneZeroChannels, removeZerosTimes, 1, full=True)\n",
    "            linearPath_cut = np.mean(res) < 10000\n",
    "\n",
    "        #     if (8 > len(removeZerosTimes) > 4) & (varianceT > 800):\n",
    "            if (lastDist < meanChannel) & negativeAmp_cut & varianceT_Cut & upPaths_cut:\n",
    "\n",
    "                dt  = (np.max(removeZerosTimes) - np.min(removeZerosTimes)) * dt_data\n",
    "                dy = dist_to_GEM #m\n",
    "            #     print(dt, dy)\n",
    "\n",
    "                if dy/dt != np.inf:\n",
    "                    timingArr.append(dy/dt)\n",
    "                    \n",
    "    y, x, _ = plt.hist(timingArr, bins=25)\n",
    "    plt.show()\n",
    "\n",
    "    aveDriftTime = np.average(timingArr) #m/s\n",
    "    errorDriftTime = np.std(timingArr) #m/s\n",
    "    \n",
    "    return [aveDriftTime, errorDriftTime]"
   ]
  },
  {
   "cell_type": "code",
   "execution_count": 507,
   "id": "9274ad61-c810-4d2a-9750-3aecd77f1add",
   "metadata": {},
   "outputs": [
    {
     "data": {
      "image/png": "[encoded data removed]",
      "text/plain": [
       "<Figure size 432x288 with 1 Axes>"
      ]
     },
     "metadata": {
      "needs_background": "light"
     },
     "output_type": "display_data"
    },
    {
     "data": {
      "image/png": "[encoded data removed]",
      "text/plain": [
       "<Figure size 432x288 with 1 Axes>"
      ]
     },
     "metadata": {
      "needs_background": "light"
     },
     "output_type": "display_data"
    },
    {
     "data": {
      "image/png": "[encoded data removed]",
      "text/plain": [
       "<Figure size 432x288 with 1 Axes>"
      ]
     },
     "metadata": {
      "needs_background": "light"
     },
     "output_type": "display_data"
    }
   ],
   "source": [
    "#getting the drift value from our three data sets to compare\n",
    "DriftData = []\n",
    "\n",
    "events_1500 = rpd.read(\"analysis/output_1500.txt\")\n",
    "DriftData.append( np.append(GetDriftTime(events_1500), 1500) )\n",
    "\n",
    "events_1300 = rpd.read(\"analysis/output_1300.txt\")\n",
    "DriftData.append( np.append(GetDriftTime(events_1300), 1300) )\n",
    "\n",
    "events_1100 = rpd.read(\"analysis/output_1100.txt\")\n",
    "DriftData.append( np.append(GetDriftTime(events_1100), 1100) )\n",
    "\n",
    "DriftData = np.array(DriftData).T"
   ]
  },
  {
   "cell_type": "code",
   "execution_count": 508,
   "id": "519536ca-3a43-45fd-a558-725ba43df815",
   "metadata": {},
   "outputs": [
    {
     "data": {
      "image/png": "[encoded data removed]",
      "text/plain": [
       "<Figure size 432x288 with 1 Axes>"
      ]
     },
     "metadata": {
      "needs_background": "light"
     },
     "output_type": "display_data"
    },
    {
     "data": {
      "text/plain": [
       "array([12454.90593811, 11993.85438212, 11864.1138891 ])"
      ]
     },
     "execution_count": 508,
     "metadata": {},
     "output_type": "execute_result"
    }
   ],
   "source": [
    "plt.errorbar(DriftData[2], DriftData[0], yerr = DriftData[1], marker=\"o\", ls=\"\")\n",
    "\n",
    "plt.ylabel(\"Drift time [m/s]\")\n",
    "#all the tracks seem to get the min hit time at ~1000\n",
    "plt.xlabel(\"Cathode Voltage [V]\")\n",
    "plt.ylim(10000, 15000)\n",
    "\n",
    "# plt.legend(fontsize=30)\n",
    "plt.show()\n",
    "\n",
    "DriftData[0]"
   ]
  },
  {
   "cell_type": "code",
   "execution_count": null,
   "id": "a4ca82d9-94a5-4193-8f2b-cd62ed509b43",
   "metadata": {},
   "outputs": [],
   "source": []
  }
 ],
 "metadata": {
  "kernelspec": {
   "display_name": "Python 3",
   "language": "python",
   "name": "python3"
  },
  "language_info": {
   "codemirror_mode": {
    "name": "ipython",
    "version": 3
   },
   "file_extension": ".py",
   "mimetype": "text/x-python",
   "name": "python",
   "nbconvert_exporter": "python",
   "pygments_lexer": "ipython3",
   "version": "3.8.8"
  }
 },
 "nbformat": 4,
 "nbformat_minor": 5
}
